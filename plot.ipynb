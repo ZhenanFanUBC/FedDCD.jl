{
 "cells": [
  {
   "cell_type": "code",
   "execution_count": 1,
   "metadata": {},
   "outputs": [],
   "source": [
    "using Plots"
   ]
  },
  {
   "cell_type": "code",
   "execution_count": 2,
   "metadata": {},
   "outputs": [
    {
     "data": {
      "text/plain": [
       "readData (generic function with 1 method)"
      ]
     },
     "execution_count": 2,
     "metadata": {},
     "output_type": "execute_result"
    }
   ],
   "source": [
    "function readData(\n",
    "    filename::String\n",
    "    )\n",
    "    f = open(filename, \"r\")\n",
    "    rounds = zeros(Int64, 0)\n",
    "    objvals = zeros(Float64, 0)\n",
    "    testAcc = zeros(Float64, 0)\n",
    "    while !eof(f)\n",
    "        line = readline(f)\n",
    "        info = split(line, \",\")\n",
    "        if length(info) != 3 || startswith(line, \"round\")\n",
    "           continue \n",
    "        end\n",
    "        r, obj, acc = info\n",
    "        r = parse(Int64, r)\n",
    "        obj = parse(Float64, obj)\n",
    "        acc = parse(Float64, acc)\n",
    "        push!(rounds, r)\n",
    "        push!(objvals, obj)\n",
    "        push!(testAcc, acc)\n",
    "    end\n",
    "    close(f)\n",
    "    return rounds, objvals, testAcc\n",
    "end"
   ]
  },
  {
   "cell_type": "code",
   "execution_count": 3,
   "metadata": {},
   "outputs": [],
   "source": [
    "filename = \"results/FedAvg_logReg_lambda1e-2.csv\"\n",
    "FAVG_rounds, FAVG_objvals, FAVG_testAcc = readData(filename);\n",
    "filename = \"results/FedProx_logReg_lambda1e-2.csv\"\n",
    "FPROX_rounds, FPROX_objvals, FPROX_testAcc = readData(filename);\n",
    "filename = \"results/Scaffold_logReg_lambda1e-2.csv\"\n",
    "SCAFFOLD_rounds, SCAFFOLD_objvals, SCAFFOLD_testAcc = readData(filename);\n",
    "filename = \"results/FedDCDv2_logReg_lambda1e-2.csv\"\n",
    "FDCD_rounds, FDCD_objvals, FDCD_testAcc = readData(filename);\n",
    "filename = \"results/AccFedDCD_logReg_lambda1e-2.csv\"\n",
    "AccFDCD_rounds, AccFDCD_objvals, AccFDCD_testAcc = readData(filename);"
   ]
  },
  {
   "cell_type": "code",
   "execution_count": 4,
   "metadata": {},
   "outputs": [],
   "source": [
    "optObj = 5.58481693e-01\n",
    "FAVG_objgaps = FAVG_objvals .- optObj\n",
    "FPROX_objgaps = FPROX_objvals .- optObj\n",
    "SCAFFOLD_objgaps = SCAFFOLD_objvals .- optObj\n",
    "FDCD_objgaps = FDCD_objvals .- optObj\n",
    "AccFDCD_objgaps = AccFDCD_objvals .- optObj\n",
    "FDCD_objgaps = vcat([FAVG_objgaps[1]], FDCD_objgaps[1:end-1])\n",
    "AccFDCD_objgaps = vcat([FAVG_objgaps[1]], AccFDCD_objgaps[1:end-1]);"
   ]
  },
  {
   "cell_type": "code",
   "execution_count": 5,
   "metadata": {},
   "outputs": [],
   "source": [
    "gr(size=(500,400), html_output_format=:png)\n",
    "Plots.scalefontsizes(1.2)"
   ]
  },
  {
   "cell_type": "code",
   "execution_count": 6,
   "metadata": {},
   "outputs": [],
   "source": [
    "p = plot(FAVG_rounds, FAVG_objgaps, yaxis=:log, label=\"FedAvg\", color = :black, line=2)\n",
    "plot!(FPROX_rounds, FPROX_objgaps, yaxis=:log, label=\"FedPox\", color = :grey, line=2)\n",
    "plot!(SCAFFOLD_rounds, SCAFFOLD_objgaps, yaxis=:log, label=\"SCAFFOLD\", line=2)\n",
    "plot!(FDCD_rounds, FDCD_objgaps, yaxis=:log, label=\"FedDCD\", color= :red, line=2)\n",
    "plot!(AccFDCD_rounds, AccFDCD_objgaps, yaxis=:log, label=\"AccFedDCD\", color= :red, line = (:dot, 2))\n",
    "xaxis!(\"number of rounds\", xtickfontsize=14)\n",
    "yaxis!(\"objective gap\", ytickfontsize=14)\n",
    "# title!(\"Softmax classification for MNIST\", titlefontsize=14)\n",
    "savefig(p,\"figures/exp1_mnist_mlr.pdf\")"
   ]
  },
  {
   "cell_type": "code",
   "execution_count": 7,
   "metadata": {},
   "outputs": [
    {
     "data": {
      "text/plain": [
       "0.418584773"
      ]
     },
     "execution_count": 7,
     "metadata": {},
     "output_type": "execute_result"
    }
   ],
   "source": [
    "# Optimal objective value for RCV1, lambda = 1e-3.\n",
    "optObj = 4.18584773e-01"
   ]
  },
  {
   "cell_type": "code",
   "execution_count": 8,
   "metadata": {},
   "outputs": [],
   "source": [
    "filename = \"results/exp1/FedAvg_logReg_rcv1_lambda1e-2.txt\"\n",
    "FAVG_rounds, FAVG_objvals, FAVG_testAcc = readData(filename);\n",
    "filename = \"results/exp1/FedProx_logReg_rcv1_lambda1e-2.txt\"\n",
    "FPROX_rounds, FPROX_objvals, FPROX_testAcc = readData(filename);\n",
    "filename = \"results/exp1/Scaffold_logReg_rcv1_lambda1e-2.txt\"\n",
    "SCAFFOLD_rounds, SCAFFOLD_objvals, SCAFFOLD_testAcc = readData(filename);\n",
    "filename = \"results/exp1/FedDCD_rcv1_lambda1e-3.txt\"\n",
    "FDCD_rounds, FDCD_objvals, FDCD_testAcc = readData(filename);\n",
    "filename = \"results/exp1/AccFedDCD_rcv1_lambda1e-3.txt\"\n",
    "AccFDCD_rounds, AccFDCD_objvals, AccFDCD_testAcc = readData(filename);"
   ]
  },
  {
   "cell_type": "code",
   "execution_count": 9,
   "metadata": {},
   "outputs": [],
   "source": [
    "optObj = 4.18584773e-01\n",
    "FAVG_objgaps = FAVG_objvals .- optObj\n",
    "FPROX_objgaps = FPROX_objvals .- optObj\n",
    "SCAFFOLD_objgaps = SCAFFOLD_objvals .- optObj\n",
    "FDCD_objgaps = FDCD_objvals .- optObj\n",
    "AccFDCD_objgaps = AccFDCD_objvals .- optObj\n",
    "FDCD_objgaps = vcat([FAVG_objgaps[1]], FDCD_objgaps[1:end-1])\n",
    "AccFDCD_objgaps = vcat([FAVG_objgaps[1]], AccFDCD_objgaps[1:end-1]);"
   ]
  },
  {
   "cell_type": "code",
   "execution_count": 10,
   "metadata": {},
   "outputs": [],
   "source": [
    "p = plot(FAVG_rounds, FAVG_objgaps, yaxis=:log, label=\"FedAvg\", color = :black, line=2)\n",
    "plot!(FPROX_rounds, FPROX_objgaps, yaxis=:log, label=\"FedPox\", color = :grey, line=2)\n",
    "plot!(SCAFFOLD_rounds, SCAFFOLD_objgaps, yaxis=:log, label=\"SCAFFOLD\", line=2)\n",
    "plot!(FDCD_rounds, FDCD_objgaps, yaxis=:log, label=\"FedDCD\", color= :red, line=2)\n",
    "plot!(AccFDCD_rounds, AccFDCD_objgaps, yaxis=:log, label=\"AccFedDCD\", color= :red, line = (:dot, 2))\n",
    "xaxis!(\"number of rounds\", xtickfontsize=14)\n",
    "yaxis!(\"objective gap\", ytickfontsize=14)\n",
    "# title!(\"Softmax classification for RCV1\", titlefontsize=14)\n",
    "savefig(p,\"figures/exp1_rcv1_mlr.pdf\")"
   ]
  },
  {
   "cell_type": "code",
   "execution_count": 11,
   "metadata": {},
   "outputs": [],
   "source": [
    "filename = \"results/exp1/FedAvg_MLP_mnist_lambda1e-2_lr1e-1.txt\"\n",
    "FAVG_rounds, FAVG_objvals, FAVG_testAcc = readData(filename);\n",
    "filename = \"results/exp1/FedProx_MLP_mnist_lambda1e-2_lr1e-1.txt\" \n",
    "FPROX_rounds, FPROX_objvals, FPROX_testAcc = readData(filename);\n",
    "filename = \"results/exp1/Scaffold_MLP_mnist_lambda1e-2_lr1e-1.txt\"\n",
    "SCAFFOLD_rounds, SCAFFOLD_objvals, SCAFFOLD_testAcc = readData(filename);\n",
    "filename = \"results/exp1/FedDCD_mnist_lambda1e-2.txt\"\n",
    "FDCD_rounds, FDCD_objvals, FDCD_testAcc = readData(filename);\n",
    "filename = \"results/exp1/AccFedDCD_mnist_lambda1e-2.txt\"\n",
    "AccFDCD_rounds, AccFDCD_objvals, AccFDCD_testAcc = readData(filename);"
   ]
  },
  {
   "cell_type": "code",
   "execution_count": 12,
   "metadata": {},
   "outputs": [],
   "source": [
    "optObj = 0\n",
    "FAVG_objgaps = FAVG_objvals .- optObj\n",
    "FPROX_objgaps = FPROX_objvals .- optObj\n",
    "SCAFFOLD_objgaps = SCAFFOLD_objvals .- optObj\n",
    "FDCD_objgaps = FDCD_objvals .- optObj\n",
    "AccFDCD_objgaps = AccFDCD_objvals .- optObj\n",
    "FDCD_objgaps = vcat([FAVG_objgaps[1]], FDCD_objgaps[1:end-1])\n",
    "AccFDCD_objgaps = vcat([FAVG_objgaps[1]], AccFDCD_objgaps[1:end-1]);"
   ]
  },
  {
   "cell_type": "code",
   "execution_count": 13,
   "metadata": {},
   "outputs": [
    {
     "name": "stderr",
     "output_type": "stream",
     "text": [
      "┌ Warning: No strict ticks found\n",
      "└ @ PlotUtils /Users/zhenanfan/.julia/packages/PlotUtils/VgXdq/src/ticks.jl:294\n",
      "┌ Warning: No strict ticks found\n",
      "└ @ PlotUtils /Users/zhenanfan/.julia/packages/PlotUtils/VgXdq/src/ticks.jl:294\n"
     ]
    }
   ],
   "source": [
    "p = plot(FAVG_rounds, FAVG_objgaps, yaxis=:log, label=\"FedAvg\", color = :black, line=2)\n",
    "plot!(FPROX_rounds, FPROX_objgaps, yaxis=:log, label=\"FedPox\", color = :grey, line=2)\n",
    "plot!(SCAFFOLD_rounds, SCAFFOLD_objgaps, yaxis=:log, label=\"SCAFFOLD\", line=2)\n",
    "plot!(FDCD_rounds, FDCD_objgaps, yaxis=:log, label=\"FedDCD\", color= :red, line=2)\n",
    "plot!(AccFDCD_rounds, AccFDCD_objgaps, yaxis=:log, label=\"AccFedDCD\", color= :red, line = (:dot, 2))\n",
    "xaxis!(\"number of rounds\", xtickfontsize=14)\n",
    "yaxis!(\"objective gap\", ytickfontsize=14)\n",
    "# title!(\"MLP classification for MNIST\", titlefontsize=14)\n",
    "savefig(p,\"figures/exp1_mnist_mlp.pdf\")"
   ]
  },
  {
   "cell_type": "code",
   "execution_count": null,
   "metadata": {},
   "outputs": [],
   "source": []
  },
  {
   "cell_type": "code",
   "execution_count": null,
   "metadata": {},
   "outputs": [],
   "source": []
  }
 ],
 "metadata": {
  "kernelspec": {
   "display_name": "Julia 1.6.2",
   "language": "julia",
   "name": "julia-1.6"
  },
  "language_info": {
   "file_extension": ".jl",
   "mimetype": "application/julia",
   "name": "julia",
   "version": "1.6.2"
  }
 },
 "nbformat": 4,
 "nbformat_minor": 4
}
