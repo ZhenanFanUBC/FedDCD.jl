{
 "cells": [
  {
   "cell_type": "code",
   "execution_count": 1,
   "metadata": {},
   "outputs": [],
   "source": [
    "using Plots"
   ]
  },
  {
   "cell_type": "code",
   "execution_count": 14,
   "metadata": {},
   "outputs": [
    {
     "data": {
      "text/plain": [
       "readData (generic function with 1 method)"
      ]
     },
     "execution_count": 14,
     "metadata": {},
     "output_type": "execute_result"
    }
   ],
   "source": [
    "function readData(\n",
    "    filename::String\n",
    "    )\n",
    "    f = open(filename, \"r\")\n",
    "    rounds = zeros(Int64, 0)\n",
    "    objvals = zeros(Float64, 0)\n",
    "    testAcc = zeros(Float64, 0)\n",
    "    while !eof(f)\n",
    "        line = readline(f)\n",
    "        info = split(line, \",\")\n",
    "        if length(info) != 3 || startswith(line, \"round\")\n",
    "           continue \n",
    "        end\n",
    "        r, obj, acc = info\n",
    "        r = parse(Int64, r)\n",
    "        obj = parse(Float64, obj)\n",
    "        acc = parse(Float64, acc)\n",
    "        push!(rounds, r)\n",
    "        push!(objvals, obj)\n",
    "        push!(testAcc, acc)\n",
    "    end\n",
    "    close(f)\n",
    "    return rounds, objvals, testAcc\n",
    "end"
   ]
  },
  {
   "cell_type": "code",
   "execution_count": 18,
   "metadata": {},
   "outputs": [],
   "source": [
    "filename = \"results/FedAvg_logReg_lambda1e-2.csv\"\n",
    "FAVG_rounds, FAVG_objvals, FAVG_testAcc = readData(filename);\n",
    "filename = \"results/FedProx_logReg_lambda1e-2.csv\"\n",
    "FPROX_rounds, FPROX_objvals, FPROX_testAcc = readData(filename);\n",
    "filename = \"results/Scaffold_logReg_lambda1e-2.csv\"\n",
    "SCAFFOLD_rounds, SCAFFOLD_objvals, SCAFFOLD_testAcc = readData(filename);\n",
    "filename = \"results/FedDCDv2_logReg_lambda1e-2.csv\"\n",
    "FDCD_rounds, FDCD_objvals, FDCD_testAcc = readData(filename);\n",
    "filename = \"results/AccFedDCD_logReg_lambda1e-2.csv\"\n",
    "AccFDCD_rounds, AccFDCD_objvals, AccFDCD_testAcc = readData(filename);"
   ]
  },
  {
   "cell_type": "code",
   "execution_count": 23,
   "metadata": {},
   "outputs": [],
   "source": [
    "optObj = 5.58481693e-01\n",
    "FAVG_objgaps = FAVG_objvals .- optObj\n",
    "FPROX_objgaps = FPROX_objvals .- optObj\n",
    "SCAFFOLD_objgaps = SCAFFOLD_objvals .- optObj\n",
    "FDCD_objgaps = FDCD_objvals .- optObj\n",
    "AccFDCD_objgaps = AccFDCD_objvals .- optObj;"
   ]
  },
  {
   "cell_type": "code",
   "execution_count": 24,
   "metadata": {},
   "outputs": [
    {
     "data": {
      "text/plain": [
       "Plots.GRBackend()"
      ]
     },
     "execution_count": 24,
     "metadata": {},
     "output_type": "execute_result"
    }
   ],
   "source": [
    "gr(size=(500,500), html_output_format=:png)"
   ]
  },
  {
   "cell_type": "code",
   "execution_count": 35,
   "metadata": {},
   "outputs": [],
   "source": [
    "p = plot(FAVG_rounds, FAVG_objgaps, yaxis=:log, label=\"FedAvg\")\n",
    "plot!(FPROX_rounds, FPROX_objgaps, yaxis=:log, label=\"FedPox\")\n",
    "plot!(SCAFFOLD_rounds, SCAFFOLD_objgaps, yaxis=:log, label=\"SCAFFOLD\")\n",
    "plot!(FDCD_rounds, FDCD_objgaps, yaxis=:log, label=\"FedDCD\")\n",
    "plot!(AccFDCD_rounds, AccFDCD_objgaps, yaxis=:log, label=\"AccFedDCD\")\n",
    "\n",
    "savefig(p,\"figures/Convergence_rate=3e-1.png\")"
   ]
  },
  {
   "cell_type": "code",
   "execution_count": null,
   "metadata": {},
   "outputs": [],
   "source": [
    "# Optimal objective value for RCV1, lambda = 1e-4.\n",
    "optObj = 1.25640560e+00"
   ]
  }
 ],
 "metadata": {
  "kernelspec": {
   "display_name": "Julia 1.5.3",
   "language": "julia",
   "name": "julia-1.5"
  },
  "language_info": {
   "file_extension": ".jl",
   "mimetype": "application/julia",
   "name": "julia",
   "version": "1.5.3"
  }
 },
 "nbformat": 4,
 "nbformat_minor": 4
}
